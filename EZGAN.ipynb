{
 "cells": [
  {
   "cell_type": "markdown",
   "metadata": {},
   "source": [
    "\n",
    "텐서플로우로 빌드한 아주 간단한 적대적 생성 신경망을 나타낸 것입니다. MNIST 데이터셋의 손으로 쓴 숫자랑 비슷한 이미지를 생성합니다.\n",
    "\n",
    "\n",
    "이 코드는 텐서플로우 v0.12 로 쓰여졌기 때문에, 이전 버전에서 실행하려면 `tf.global_variable_initializer()` 를 `tf.initialize_all_variables()` 로 교체해주면 됩니다. 이 스크립트는 텐서보드에 아주 유용한 출력값을 제공합니다; 텐서보드 v0.11 혹은 이전 버전에서 실행하려면, `tf.summary.scalar()` 와 `tf.summary.image()` 를  `tf.scalar_summary()` 와 `tf.image_summary()` 로 각각 교체해주면 됩니다.\n",
    "\n",
    "- 이것은 일종의 Deep Convolutional GAN으로\n",
    "- 생성기는 deconvolutional net\n",
    "- 판별기는 convolutional net입니다.\n",
    "- GAN 의 학습 영상 https://www.youtube.com/watch?v=fN3egtFdA7s\n",
    "\n",
    "vanilla GAN 를 발전시키기 위해 발견한 것은:\n",
    "\n",
    "- 배치 정규화는 두 신경망 모두 필수적입니다. https://standardfrancis.files.wordpress.com/2015/04/screenshot-from-2015-04-16-133436.png?w=1008 배치 정규화는 두 가지 면에서 도움이 됩니다: 더 빠른 학습 속도와 더 높은 정확도. 개선된 방법으로 더 큰 학습률을 사용할 수 있으며, 이로 인해 스피드 부스팅 가능성이 있습니다. 정규화는 서로 다른 특성들을 비교할 수 있도록하는 전처리로 사용됩니다. 배치 정규화는 어디서나 이런 것들을 수행합니다\n",
    "- ReLU 활성화함수는 많은 도움을 주는 친구입니다 (거의 항상 그렇습니다).\n",
    "\n",
    "\n",
    "\n",
    "GAN은 학습시키기 어렵습니다.\n",
    "\n",
    "적절한 하이퍼파라미터와, 네트워크 구조, 학습과정 없이는 \n",
    "생성기와 판별기 중 하나에서 문제가 일어나기 쉽습니다. \n",
    "\n",
    "흔히 생성기가 반복적으로 판별기가 찾고 있는 데이터 분포에 맞는 이미지를 출력하여\n",
    "생성기가 판별기 내 결함을 발견할 수는 있지만\n",
    "어디서도 알아볼 수 없는 MNIST 숫자가 되는 것입니다. 생성기가 하나의 점에 몰입되면서\n",
    "더 이상 다양한 숫자를 출력하지 않게 되어버린 것입니다.\n",
    "\n",
    "또 다른 경우에는 판별기가 너무 똑똑해져서\n",
    "실제와 가짜 이미지를 쉽게 구분하게 되어버리는 것입니다.\n",
    "\n",
    "\n",
    "이런 현상에 대한 수학적 인사이트로는 GAN이 게임 상의 Nash 균형을 찾는 것이 아닌, 비용 함수의 최소값을 찾기 위해\ 경사하강법으로 학습한다는 점입니다. 만약 Nash균형을 찾으려 했다면, 현재 알고리즘은 수렴하지 않을 수도 있습니다. 게임이론과 안정적인 최적화 기술을 더 많이 연구한다면, 언젠가는 GAN을 합성곱 신경망처럼 간단히 훈련할 수 있게 될것입니다."
   ]
  },
  {
   "cell_type": "markdown",
   "metadata": {},
   "source": [
    "![Image of Yaktocat](https://cdn-images-1.medium.com/max/2000/1*39Nnni_nhPDaLu9AnTLoWw.png)"
   ]
  },
  {
   "cell_type": "code",
   "execution_count": 1,
   "metadata": {
    "scrolled": false
   },
   "outputs": [
    {
     "name": "stdout",
     "output_type": "stream",
     "text": [
      "Extracting MNIST_data/train-images-idx3-ubyte.gz\n",
      "Extracting MNIST_data/train-labels-idx1-ubyte.gz\n",
      "Extracting MNIST_data/t10k-images-idx3-ubyte.gz\n",
      "Extracting MNIST_data/t10k-labels-idx1-ubyte.gz\n"
     ]
    }
   ],
   "source": [
    "import tensorflow as tf #\n",
    "import numpy as np #행렬 연산\n",
    "import datetime #l모델의 체크포인트와 학습시간의 로그를 기록하기 위함입니다.\n",
    "import matplotlib.pyplot as plt #결과를 시각화합니다.\n",
    "%matplotlib inline\n",
    "\n",
    "#1 단계 - 데이터셋을 얻어옵니다.\n",
    "#MNIST - 손으로 쓴 문자, ~50,000 개의 학습과 검증용 이미지 + 레이블, 10,000 개의 테스트\n",
    "from tensorflow.examples.tutorials.mnist import input_data\n",
    "#로컬 학습 폴더에 올바른 데이터가 다운로드된 것을 확인하고\n",
    "#데이터를 풀어서 DataSet 인스턴스의 딕셔너리를 반환합니다.\n",
    "mnist = input_data.read_data_sets(\"MNIST_data/\")"
   ]
  },
  {
   "cell_type": "markdown",
   "metadata": {},
   "source": [
    "![Image of Yaktocat](https://image.slidesharecdn.com/tensorflowppt-160408142819/95/tensorflow-4-638.jpg?cb=1460125744)"
   ]
  },
  {
   "cell_type": "markdown",
   "metadata": {},
   "source": [
    "[Adit Deshpande](https://adeshpande3.github.io/)의 스마트한 스트럭쳐를 보면, 판별기와 생성기의 신경망이 별개의 함수로 존재해서 필요할 때 불러올 수 있습니다."
   ]
  },
  {
   "cell_type": "markdown",
   "metadata": {},
   "source": [
    "여기 있는 판별기 신경망은 `x_image`로 진짜/가짜를 구분합니다. 아래에서 볼 수 있듯이, `x_image` 를 플레이스홀더에 적용하거나 다른 텐서에 적용할 수 있습니다. 예를 들면 생성기의 출력값 같은 것 입니다.\n",
    "\n",
    "이 신경망 구조는 텐서플로우의 [Deep MNIST for Experts](https://www.tensorflow.org/tutorials/mnist/pros/) 튜토리얼에서 그대로 가져온 것입니다.\n",
    "\n",
    "![Image of Yaktocat](https://ai2-s2-public.s3.amazonaws.com/figures/2016-11-08/42f6f5454dda99d8989f9814989efd50fe807ee8/3-Figure1-1.png)"
   ]
  },
  {
   "cell_type": "code",
   "execution_count": 2,
   "metadata": {
    "collapsed": true
   },
   "outputs": [],
   "source": [
    "def discriminator(x_image, reuse=False):\n",
    "    if (reuse):\n",
    "        tf.get_variable_scope().reuse_variables()\n",
    "\n",
    "    # 첫 번째 합성곱과 풀링 층\n",
    "    # 32 개의 5 x 5 특성을 찾습니다.\n",
    "    #이미지를 합성곱 층으로 전달하는 것으로 시작합니다.\n",
    "    #먼저 tf.get_variable 를 사용해 가중치와 편향 변수를 생성합니다.\n",
    "    #첫 번째 가중치 행렬(혹은 필터)는 5 x 5 의 크기를 가지고 출력의 깊이는 32 입니다.\n",
    "    #정규 분포로부터 무작위로 초기화됩니다.\n",
    "    d_w1 = tf.get_variable('d_w1', [5, 5, 1, 32], initializer=tf.truncated_normal_initializer(stddev=0.02))\n",
    "    #tf.constant_init 이 상수값의 텐서를 생성합니다.\n",
    "    d_b1 = tf.get_variable('d_b1', [32], initializer=tf.constant_initializer(0))\n",
    "    #tf.nn.conv2d() 일반적인 합성곱을 위한 텐서플로우 함수입니다.\n",
    "    #4 개의 인수를 받습니다. 첫 번째는 입력 크기입니다 (이 경우는 28 x 28 x 1 의 이미지입니다). \n",
    "    #그 다음 인수는 필터/가중치 행렬입니다. 마지막으로는 합성곱의 스트라이드와 \n",
    "    #패딩을 바꿀 수 있습니다. 이 두 개의 값은 출력 크기에 영향을 줍니다.\n",
    "    #\"SAME\" 은 좌우 고르게 패딩을 더해주지만, 더해진 열의 수가 홀수이면, \n",
    "    #오른쪽에 추가로 열을 더해줍니다\n",
    "    #스트라이드 = [배치, 높이, 너비, 채널]\n",
    "    d1 = tf.nn.conv2d(input=x_image, filter=d_w1, strides=[1, 1, 1, 1], padding='SAME')\n",
    "    #편중을 더해줍니다\n",
    "    d1 = d1 + d_b1\n",
    "    #비선형적인 활성화 함수에 통과시킵니다 (ReLU).\n",
    "    d1 = tf.nn.relu(d1)\n",
    "    ##평균적인 풀링층은 입력을 사각형의 풀링 영역으로 나누고 \n",
    "    #그 영역의 평균을 구하는 것으로 다운 샘플링을 실행합니다.\n",
    "    #풀링 영역의 평균을 반환합니다\n",
    "    d1 = tf.nn.avg_pool(d1, ksize=[1, 2, 2, 1], strides=[1, 2, 2, 1], padding='SAME')\n",
    "\n",
    "    #다른 합성곱 신경망과 마찬가지로 이 모듈이 반복됩니다 \n",
    "    # 두 번째 합성곱과 풀링 층\n",
    "    # 64 개의 5 x 5 특성을 찾습니다\n",
    "    d_w2 = tf.get_variable('d_w2', [5, 5, 32, 64], initializer=tf.truncated_normal_initializer(stddev=0.02))\n",
    "    d_b2 = tf.get_variable('d_b2', [64], initializer=tf.constant_initializer(0))\n",
    "    d2 = tf.nn.conv2d(input=d1, filter=d_w2, strides=[1, 1, 1, 1], padding='SAME')\n",
    "    d2 = d2 + d_b2\n",
    "    d2 = tf.nn.relu(d2)\n",
    "    d2 = tf.nn.avg_pool(d2, ksize=[1, 2, 2, 1], strides=[1, 2, 2, 1], padding='SAME')\n",
    "\n",
    "     #그 뒤에는 연속된 완전 연결 층이 따라옵니다. \n",
    "    # 첫 번째 완전 연결 층\n",
    "    d_w3 = tf.get_variable('d_w3', [7 * 7 * 64, 1024], initializer=tf.truncated_normal_initializer(stddev=0.02))\n",
    "    d_b3 = tf.get_variable('d_b3', [1024], initializer=tf.constant_initializer(0))\n",
    "    d3 = tf.reshape(d2, [-1, 7 * 7 * 64])\n",
    "    d3 = tf.matmul(d3, d_w3)\n",
    "    d3 = d3 + d_b3\n",
    "    d3 = tf.nn.relu(d3)\n",
    "\n",
    "    #마지막 완전연결층은 클래스 점수와 같은 출력을 가지게 됩니다.\n",
    "    # 두 번째 완전연결층\n",
    "    d_w4 = tf.get_variable('d_w4', [1024, 1], initializer=tf.truncated_normal_initializer(stddev=0.02))\n",
    "    d_b4 = tf.get_variable('d_b4', [1], initializer=tf.constant_initializer(0))\n",
    "\n",
    "    #A네트워크의 끝 부분에, 마지막 행렬 곱셈을 하고\n",
    "    #활성값을 반환합니다.\n",
    "    #CNN 에 익숙한 사람은, 이건 간단한 이진 분류기에 불과합니다.\n",
    "    # 마지막 층\n",
    "    d4 = tf.matmul(d3, d_w4) + d_b4\n",
    "    # d4 의 크기: batch_size x 1\n",
    "\n",
    "    return d4"
   ]
  },
  {
   "cell_type": "markdown",
   "metadata": {},
   "source": [
    "여기 이제 생성기가 있습니다. 불러오게 되면, 잠재 공간 $z$ 으로부터 온 무작위 노이즈의 배치를 생성하는 것으로 시작하고, 그것을 합성곱에 전달해 28 x 28 이미지를 생성합니다.\n",
    "\n",
    "[Tim O'Shea](http://www.kdnuggets.com/2016/07/mnist-generative-adversarial-model-keras.html)으로부터 빌린 구조입니다."
   ]
  },
  {
   "cell_type": "code",
   "execution_count": 3,
   "metadata": {
    "collapsed": true
   },
   "outputs": [],
   "source": [
    "#생성기를 역합성곱 신경망의 일종으로 볼 수도 있습니다. CNN 에서의 목표는\n",
    "#2, 3 차원의 행렬을 단일 확률로 변환하는 것입니다. 그러나 생성기는, \n",
    "#차원의 노이즈 벡터를 받아서 28 x 28 이미지가 되도록 업샘플링합니다. \n",
    "#ReLU 는 각 층의 출력을 안정화하는데 사용됩니다.\n",
    "#CNN 블록의 예시 http://cs231n.github.io/convolutional-networks/#fc\n",
    "\n",
    "#무작위 입력을 받아서, MNIST 데이터 형태에 맞추기 위해 [1,28,28] 로 매핑합니다.  \n",
    "#밀도 있는 14 x 14 의 값들을 생성하고, \n",
    "#댜앙한 크기와 채널의 수를 가진  필터를 통과합니다.\n",
    "#가중치 행렬이 점점 작아집니다.\n",
    "\n",
    "def generator(batch_size, z_dim):\n",
    "    z = tf.truncated_normal([batch_size, z_dim], mean=0, stddev=1, name='z')\n",
    "    #첫 번째 디콘볼루션 블록\n",
    "    g_w1 = tf.get_variable('g_w1', [z_dim, 3136], dtype=tf.float32, initializer=tf.truncated_normal_initializer(stddev=0.02))\n",
    "    g_b1 = tf.get_variable('g_b1', [3136], initializer=tf.truncated_normal_initializer(stddev=0.02))\n",
    "    g1 = tf.matmul(z, g_w1) + g_b1\n",
    "    g1 = tf.reshape(g1, [-1, 56, 56, 1])\n",
    "    g1 = tf.contrib.layers.batch_norm(g1, epsilon=1e-5, scope='bn1')\n",
    "    g1 = tf.nn.relu(g1)\n",
    "\n",
    "    # 50 개의 특성을 생성합니다.\n",
    "    g_w2 = tf.get_variable('g_w2', [3, 3, 1, z_dim/2], dtype=tf.float32, initializer=tf.truncated_normal_initializer(stddev=0.02))\n",
    "    g_b2 = tf.get_variable('g_b2', [z_dim/2], initializer=tf.truncated_normal_initializer(stddev=0.02))\n",
    "    g2 = tf.nn.conv2d(g1, g_w2, strides=[1, 2, 2, 1], padding='SAME')\n",
    "    g2 = g2 + g_b2\n",
    "    g2 = tf.contrib.layers.batch_norm(g2, epsilon=1e-5, scope='bn2')\n",
    "    g2 = tf.nn.relu(g2)\n",
    "    g2 = tf.image.resize_images(g2, [56, 56])\n",
    "\n",
    "    #  25 개의 특성을 생성합니다.\n",
    "    g_w3 = tf.get_variable('g_w3', [3, 3, z_dim/2, z_dim/4], dtype=tf.float32, initializer=tf.truncated_normal_initializer(stddev=0.02))\n",
    "    g_b3 = tf.get_variable('g_b3', [z_dim/4], initializer=tf.truncated_normal_initializer(stddev=0.02))\n",
    "    g3 = tf.nn.conv2d(g2, g_w3, strides=[1, 2, 2, 1], padding='SAME')\n",
    "    g3 = g3 + g_b3\n",
    "    g3 = tf.contrib.layers.batch_norm(g3, epsilon=1e-5, scope='bn3')\n",
    "    g3 = tf.nn.relu(g3)\n",
    "    g3 = tf.image.resize_images(g3, [56, 56])\n",
    "\n",
    "    # 하나의 출력 채널을 가진 마지막 합성곱.\n",
    "    g_w4 = tf.get_variable('g_w4', [1, 1, z_dim/4, 1], dtype=tf.float32, initializer=tf.truncated_normal_initializer(stddev=0.02))\n",
    "    g_b4 = tf.get_variable('g_b4', [1], initializer=tf.truncated_normal_initializer(stddev=0.02))\n",
    "    g4 = tf.nn.conv2d(g3, g_w4, strides=[1, 2, 2, 1], padding='SAME')\n",
    "    g4 = g4 + g_b4\n",
    "    g4 = tf.sigmoid(g4)\n",
    "\n",
    "    # 마지막 층에는 배치 정규화가 없지만\n",
    "    # 시그모이드 활정제를 추가해 생성된 이미지가 선명하도록 합니다.\n",
    "    # g4 의 크기: batch_size x 28 x 28 x 1\n",
    "\n",
    "    return g4"
   ]
  },
  {
   "cell_type": "markdown",
   "metadata": {},
   "source": [
    "아래처럼 손실과 최적화를 설정합니다.\n",
    "\n",
    "- 거꾸로 뒤집어진 대문자 델타 기호는 생성기의 기울기를 나타냅니다.\n",
    "- m 은 샘플의 수 입니다.\n",
    "- 시그마 기호는 시그마의 위쪽과 아래쪽의 작은 숫자들로 정의된 값에 대한 함수의 합을 구하는 것을 의미합니다. 수열의 합을 계산합니다.\n",
    "\n",
    "![Image of Yaktocat](https://cdn-images-1.medium.com/max/1600/1*V4nu4ThcHFQXmWKxx9lhbA.png)\n",
    "판별기를 위한 경사 상승법입니다. 첫 번째는 실제 데이터 (x) 가 높게 평가될 확률을 최적화하는 것입니다. 두 번째는 생성된 데이터 G(z) 가 낮게 평가될 확률을 최적화하는 것입니다. 여기서 기억해야할 점은 생성기가 아닌 판별기의 기울기를 적용하는 것입니다.\n",
    "\n",
    "기울기를 사용하는 방식이 일반적으로 p(x) 보다 log p(x) 를 최적화할 때 더 잘 작동하는 이유는 log p(x) 의 기울기가 일반적으로 더 고른 비율을 가지기 때문입니다. 다시 말해 목적 함수의 기하학적 구조를 잘 반영하는 크기를 가지고 있어서 더 적절한 단계 크기를 가지고 최적점에 더 빠르게 이를 수 있습니다. 컴퓨터는 분수를 표현할 때 제한된 자리수의 부동소수점을 사용하기 때문에, 수많은 확률들의 곱셈은 거의 0 에 가깝게 됩니다. 로그를 더해주면 이런 문제가 발생하지 않습니다.\n",
    "\n",
    "다음으로 생성기는 생성된 데이터가 높게 평가될 확률을 높이기 위해 최적화됩니다.\n",
    "\n",
    "![Image of Yaktocat](https://cdn-images-1.medium.com/max/1600/1*njOrO3uNzUH1dZb7-i-dhw.png)\n",
    "생성기를 위한 경사 하강. 생성된 데이터 G(z) 가 높게 평가될 확률을 최적화하는 것을 나타냅니다. 마찬가지로 기억할 점은 판별기가 아닌 생성기의 기울기를 적용하는 것입니다.\n",
    "\n",
    "실제 데이터와 생성된 데이터의 새로운 배치에 따른 이 두 식을 번갈아 가며 사용함으로써 GAN 은 모델링할 수 있을 만큼의 데이터를 생산하도록 수렴합니다."
   ]
  },
  {
   "cell_type": "code",
   "execution_count": 4,
   "metadata": {},
   "outputs": [],
   "source": [
    "sess = tf.Session()\n",
    "\n",
    "batch_size = 50\n",
    "z_dimensions = 100\n",
    "\n",
    "x_placeholder = tf.placeholder(\"float\", shape = [None,28,28,1], name='x_placeholder')\n",
    "# x_placeholder 는 입력 이미지를 판별기에 적용하기 위해 사용됩니다\n",
    "\n",
    "#GAN 을 이해하는데 가장 헷갈리는 부분은 손실 함수가\n",
    "#일반적인 CNN 분류기의 손실함수보다 조금 더 복잡하다는 것입니다. (이 경우에는 MSE 나 Hinge Loss 를 사용하면 됩니다)\n",
    "#개요 부분을 다시 떠올리면, GAN 은 일종의 제로섬 최소극대화 게임입니다.\n",
    "#생성기가 점점 사실적인 이미지를 생성하기 위해 발전하는 동시에\n",
    "#판별기는 점점 더 실제와 생성된 이미지를 더 잘 구분하기 위해 발전합니다.\n",
    "#이것이 의미하는 것은 두 네트워크에 모두 영향을 줄 손실 함수를 만들어내야 한다는 것입니다. \n",
    "#먼저 네트워크의 입력과 출력을 살펴봅시다.\n",
    "\n",
    "Gz = generator(batch_size, z_dimensions)\n",
    "# Gz 는 생성된 이미지를 담고 있습니다.\n",
    "#g(z)\n",
    "\n",
    "Dx = discriminator(x_placeholder)\n",
    "# Dx 는 판별기의 실제 MNIST 이미지에 대한 \n",
    "# 예상 확률을 담고 있습니다.\n",
    "#d(x)\n",
    "\n",
    "Dg = discriminator(Gz, reuse=True)\n",
    "# Dg 는 판별기의 생성된 이미지에 대한 예상 확률을 담고 있습니다.\n",
    "#d(g(z))\n",
    "\n",
    "\n",
    "\n",
    "#먼저 네트워크로부터 원하는 것이 무엇인지 한 번 살펴봅시다. 먼저 생성기는\n",
    "#판별기를 속일 이미지를 생성해야 합니다.다시 말해 생성기는 판별기가 1 을 반환하게 해야합니다.\n",
    "#그래서 우리는 Dg 와 1 이라는 라벨 사이의 손실을 계산해야 하고\n",
    "#tf.nn.sigmoid_cross_entropy_with_logits 힘수를 사용하면 됩니다. 이것은 교차 엔트로피 손실함수가\n",
    "#두 인수 사이에서 온다는 것을 의미하고, \"with_logits\" 는 함수가 알려지지 않은 값에서 실행된다는 것을 의미합니다.\n",
    "#그래서 소프트맥스 함수를 이용해 출력 활성값을 확률 값인 0 과 1 사이로 압축하는 대신\n",
    "#행렬 곱셈 후 압축하지 않은 값을 사용합니다.\n",
    "#우리의 판별기의 마지막 줄을 보면, 소프트맥스나 시그모이드 층이 없습니다\n",
    "#reduce_mean 함수는 교차 엔트로피 함수에 의해 반환된 행렬의 모든 요소들의 평균을 구합니다.\n",
    "#이것으로 손실을 벡터나 행렬로 나타내는 대신\n",
    "#단일 특정값으로 나타낼 수 있습니다.\n",
    "#https://datascience.stackexchange.com/questions/9302/the-cross-entropy-error-function-in-neural-networks\n",
    "\n",
    "g_loss = tf.reduce_mean(tf.nn.sigmoid_cross_entropy_with_logits(logits=Dg, labels=tf.ones_like(Dg)))\n",
    "\n",
    "\n",
    "#판별기의 관점에서 살펴보면, 목표는 단순히 올바른 라벨을 얻는 것입니다. (MNIST 숫자에는 1, 생성된 것에는 0 을 출력)\n",
    "#그래서 계산해야 하는 것은 Dx 와 올바른 1 라벨 사이의 손실과\n",
    "#Dg 와 올바른 0 라벨 사이의 손실입니다.\n",
    "d_loss_real = tf.reduce_mean(tf.nn.sigmoid_cross_entropy_with_logits(logits=Dx, labels=tf.fill([batch_size, 1], 0.9)))\n",
    "d_loss_fake = tf.reduce_mean(tf.nn.sigmoid_cross_entropy_with_logits(logits=Dg, labels=tf.zeros_like(Dg)))\n",
    "d_loss = d_loss_real + d_loss_fake\n",
    "\n",
    "tvars = tf.trainable_variables()\n",
    "\n",
    "d_vars = [var for var in tvars if 'd_' in var.name]\n",
    "g_vars = [var for var in tvars if 'g_' in var.name]\n",
    "\n",
    "# 판별기를 훈련합니다.\n",
    "# GitHub 버전에서는 0.001 부터 증가합니다.\n",
    "with tf.variable_scope(tf.get_variable_scope(), reuse=False) as scope:\n",
    "    #두 개의 최적화 도구를 특정합니다. 오늘날의 머신러닝에서는\n",
    "    #적응형 학습률과 모멘텀을 이용하는 Adam 이 최고의 SGD 최적화 도구입니다.\n",
    "    #Adam 의 최소화 함수를 불러오고 갱신하고자 하는 변수를 특정합니다.\n",
    "    d_trainer_fake = tf.train.AdamOptimizer(0.0001).minimize(d_loss_fake, var_list=d_vars)\n",
    "    d_trainer_real = tf.train.AdamOptimizer(0.0001).minimize(d_loss_real, var_list=d_vars)\n",
    "\n",
    "    # 생성기를 훈련합니다.\n",
    "    # GitHub 버전에서는 0.004 부터 감소합니다.\n",
    "    g_trainer = tf.train.AdamOptimizer(0.0001).minimize(g_loss, var_list=g_vars)"
   ]
  },
  {
   "cell_type": "markdown",
   "metadata": {},
   "source": [
    "이곳에서 유용한 요약 스칼라와 샘플 이미지를 텐서보드에 전달합니다."
   ]
  },
  {
   "cell_type": "code",
   "execution_count": null,
   "metadata": {
    "collapsed": true
   },
   "outputs": [],
   "source": [
    "#단일 스칼라값을 포함한 Summary 프로토콜 버퍼를 출력합니다.\n",
    "tf.summary.scalar('Generator_loss', g_loss)\n",
    "tf.summary.scalar('Discriminator_loss_real', d_loss_real)\n",
    "tf.summary.scalar('Discriminator_loss_fake', d_loss_fake)\n",
    "\n",
    "d_real_count_ph = tf.placeholder(tf.float32)\n",
    "d_fake_count_ph = tf.placeholder(tf.float32)\n",
    "g_count_ph = tf.placeholder(tf.float32)\n",
    "\n",
    "tf.summary.scalar('d_real_count', d_real_count_ph)\n",
    "tf.summary.scalar('d_fake_count', d_fake_count_ph)\n",
    "tf.summary.scalar('g_count', g_count_ph)\n",
    "\n",
    "# 판별기가 어떻게 생성된 이미지와 실제 MNIST 이미지를\n",
    "# 평가하는지 확인하는 일종의 검사입니다.\n",
    "d_on_generated = tf.reduce_mean(discriminator(generator(batch_size, z_dimensions)))\n",
    "d_on_real = tf.reduce_mean(discriminator(x_placeholder))\n",
    "\n",
    "tf.summary.scalar('d_on_generated_eval', d_on_generated)\n",
    "tf.summary.scalar('d_on_real_eval', d_on_real)\n",
    "\n",
    "images_for_tensorboard = generator(batch_size, z_dimensions)\n",
    "tf.summary.image('Generated_images', images_for_tensorboard, 10)\n",
    "merged = tf.summary.merge_all()\n",
    "logdir = \"tensorboard/gan/\"\n",
    "writer = tf.summary.FileWriter(logdir, sess.graph)\n",
    "print(logdir)"
   ]
  },
  {
   "cell_type": "markdown",
   "metadata": {},
   "source": [
    "우리의 목표는 판별기가 모든 실제 MNIST 이미지를 올바르게 구분하고, 50% 정도의 생성된 이미지를 MNIST 이미지로 판별하게 하는 것입니다. 그 중 몇 가지 피해야할 실패 상황들이 있습니다:\n",
    "* **판별기의 손실이 0 에 가까워진다**: 생성기의 최적화 도구에 적합한 기울기가 없게 됩니다.\n",
    "* **생성된 이미지에 대한 판별기의 손실이 제한없이 상승한다**: 비슷하게, 판별기가 더 이상 발전할 기울기가 없게 되고, 인식되는 기울기가 완벽한 성능을 낸다는 것을 나타내게 되어 생성기의 훈련도 역시 멈추게 됩니다.  .\n",
    "* **판별기의 정확도가 수렴하지 않는다**: 판별기가 모든 것을 실제나 모든 것을 생성된 것으로 판별하게 됩니다. 판별기의 생성된 이미지와 실제 이미지에 대한 손실을 확인함으로써 발견할 수 있습니다.\n",
    "\n",
    "이러한 것들로부터 균형을 맞추기 위해서 손실에 따라 3 가지 훈련 연산을 실행하는 조절기를 훈련 과정에 사용합니다. 질적으로 보았을 때, 가장 급격한 성능 향상은 생성기와 판별기가 고르게 맞춰졌을 때 이루어집니다. 조절기는 신경망에서 생성기와 판별기 중 하나가 너무 강할 때 훈련 작업을 실행하는 것을 막습니다.\n",
    "\n",
    "여기 훈련 과정이 있습니다. 텐서보드의 로그를 위한 `tensorboard` 와 가장 최근 5 개의 체크 포인트를 저장할 `models` 라는 쓰기 가능한 디텍토리가 필요합니다\n",
    "\n",
    "눈에 띄는 결과는 10,000 사이클 이후에 나타나고, 그 다음에 향상됩니다. 빠른 GPU 장치에서는, 10,000 사이클을 10 분 내로 완료할 수 있습니다. 데스크탑 CPU 에서는 10 배 정도의 시간이 걸립니다. 수많은 무작위 숫자들이 포함되어 있기 때문에, 실행할 때마다 다른 결과가 나타납니다. 정확히는, 앞쪽 2,000 사이클에서 멈추게 될 수 있는데, 다시 스스로 회복할 것입니다."
   ]
  },
  {
   "cell_type": "code",
   "execution_count": null,
   "metadata": {},
   "outputs": [
    {
     "name": "stdout",
     "output_type": "stream",
     "text": [
      "TRAINING STEP 0 AT 2017-04-25 18:40:06.746826\n",
      "Discriminator classification [-0.00066344]\n"
     ]
    },
    {
     "data": {
      "image/png": "iVBORw0KGgoAAAANSUhEUgAAAP8AAAD8CAYAAAC4nHJkAAAABHNCSVQICAgIfAhkiAAAAAlwSFlz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\nRU5ErkJggg==\n",
      "text/plain": [
       "<matplotlib.figure.Figure at 0x11f43fda0>"
      ]
     },
     "metadata": {},
     "output_type": "display_data"
    },
    {
     "name": "stdout",
     "output_type": "stream",
     "text": [
      "Discriminator classification [-0.00072882]\n"
     ]
    },
    {
     "data": {
      "image/png": "iVBORw0KGgoAAAANSUhEUgAAAP8AAAD8CAYAAAC4nHJkAAAABHNCSVQICAgIfAhkiAAAAAlwSFlz\nAAALEgAACxIB0t1+/AAAGS5JREFUeJzt3Xlw1eW5B/DvIwaQAAVEFgHZpCylCG0ABbUIuCEWihZ1\n2sqdWtAWO9Y6rYy37XW0VrFqR8WhQy0DOL0UGVSoWEFwQVxKA7Kjsgthk32XJc/9I4dOWnm/b0zC\nOfG+388MQzjfPOf8PDmPJ8m7mbtDRNJzVq4vQERyQ80vkig1v0ii1PwiiVLziyRKzS+SKDW/SKLU\n/CKJUvOLJOrsbD5Yfn6+N2jQIJjXqlWr3Pe9a9cumufl5VUoZzMha9asSWsPHz5M888++4zmsfuv\nX79+MNu/f3+F7ru4uJjm27dvp3mLFi2C2datW2nt8ePHac5eSwBw1lnh97bYf/eBAwdoHru2c845\nh+a1a9cOZp9++imtZde+a9cuHDx40OgdZFSo+c3sGgBPAqgG4Fl3f4R9foMGDfDzn/88mHfp0iX2\neMHsueeeo7WNGzemOXuRAsCxY8eC2YUXXkhrlyxZQvPVq1fTvHPnzjQfPHhwMHvjjTdobbt27Wh+\n8OBBmj/11FM0f/zxx4PZww8/TGu3bNlC85tuuonmrMHat29Pa19//XWaxxo09jW79NJLg9mYMWNo\nbYcOHYLZ6NGjaW1p5f6238yqAXgGwLUAOgG4xcw6lff+RCS7KvIzfw8Aa9x9nbsfA/BXAIMq57JE\n5EyrSPM3A7Cp1L83Z277N2Y2wswKzazw0KFDFXg4EalMZ/y3/e4+zt0L3L0gPz//TD+ciJRRRZq/\nCEDp35I1z9wmIl8CFWn+fwJoZ2atzaw6gJsBzKicyxKRM63cQ33ufsLM7gQwCyVDfePdfQWrOXDg\nAObOnRvMY+PhM2aE/98SG5L66le/SvPYkFfz5s2D2dKlS2ntj370I5o/8cQTNN+0aRPNp0yZEswu\nv/xyWlu3bl2ax4ZAzz6bv4R27NgRzGJzM2LzPnr16kVz9rxcdtlltLZZs8/9+urfxF5vsR2ynn32\n2WB28uRJWnvkyJFgFpuXUVqFxvnd/RUAr1TkPkQkNzS9VyRRan6RRKn5RRKl5hdJlJpfJFFqfpFE\nZXU9f15eHpo2bRrMu3XrRuvZGGaTJk1o7YoVdApCdEyZrQ1n464A8Pzzz1foscePH0/z3/zmN8Es\ntq789ttvp/kDDzxA8+9+97s037t3bzB78MEHae17771H83379tF84cKFwYyNswPA0aNHaV5UxCez\nxq6N7R/RqFEjWsv2GojNEShN7/wiiVLziyRKzS+SKDW/SKLU/CKJUvOLJCqrQ30nT56kwxRr1qyh\n9R07dgxm9erVo7WxJZgNGzak+apVq4JZz549K3Tf1113Hc0HDeJbI7Lh07feeqtCj83+uwGge/fu\nNGdf79hS5lg+adIkmp9//vnBbNu2bbQ2ti14bEu62BAoW/LLlkED/Gv2wgsv0NrS9M4vkig1v0ii\n1PwiiVLziyRKzS+SKDW/SKLU/CKJyuo4f506dehW0osXL6b1y5YtC2ZXXHFF9LGZ2bNn0/yCCy4I\nZnPmzKG1sXkAL730Es0fffRRmrOtw2Pj2bEtzWNLUz/44AOa9+jRI5jF5mbMmjWL5rEToNhy5tgp\nu23atKF5q1ataM5OdQaAa6+9NphNnz6d1rK5G7GjxUvTO79IotT8IolS84skSs0vkig1v0ii1Pwi\niVLziySqQuP8ZrYBwAEAJwGccPeCyOejevXqwTy2zXTr1q2D2YIFC2jtkCFDaB47Bnv9+vXBrH79\n+rR248aNFXpsNlYO8LXnv/3tb2ltnz59aN63b1+ax47oZtuWx44Pj80hiO1VcOeddwaz999/n9bG\n8u9973s0nzx5Ms3Z9twzZ86ktV//+teDWWx+QWmVMcnnCnffWQn3IyJZpG/7RRJV0eZ3AHPMbKGZ\njaiMCxKR7Kjot/2XunuRmTUC8JqZfeju80p/QuZ/CiOA+L5oIpI9FXrnd/eizN87ALwI4HO/mXL3\nce5e4O4FscU1IpI95W5+M8s3szqnPgZwFYDllXVhInJmVeTb/sYAXjSzU/fzv+7+aqVclYicceVu\nfndfB+CiL1JTs2ZNun48tkf8iRMngtngwYNp7Z49e2jeq1cvmj/00EPBbOTIkbS2S5cuNP/lL39J\n8379+tG8U6dOwWzcuHG0tkWLFjSPnXcwevRoml90Ufgl8vHHH9Pa2NHlN954I83Zmv358+fT2tgc\nhNi+/ez1AvDXesuWLWkt22NBR3SLSJSaXyRRan6RRKn5RRKl5hdJlJpfJFFZ3bp79+7dmDJlSjCP\nbcXcoUOHYLZlyxZau3btWppfddVVNL/66quDWexo8diy2Ngx2e3bt6c5e96Kiopobczq1atp/u1v\nf5vmr74anvoR22499rzG8v79+wezu+66i9ayJbdA/PW0YcMGmrMttmNDnGPGjAlmsa3WS9M7v0ii\n1PwiiVLziyRKzS+SKDW/SKLU/CKJUvOLJCqr4/xAyfbdIQ0bNqS1u3fvDmaxLaTZeDPAj+AGgA8/\n/DCY3X333bQ2tlR58+bNNH/nnXdofs899wQzNjcCiB9FvW7dOprHlhsfPXo0mLGvJxA/Bjt2pPtH\nH30UzGJLXwsK6C70+Nvf/kbz2PPK5gn8+te/prWsT37/+9/T2tL0zi+SKDW/SKLU/CKJUvOLJErN\nL5IoNb9IotT8Iokyd8/ag+Xn53vHjh2D+a233krr2dhp3bp1ae0rr7xC8+PHj9O8efPmweyb3/wm\nrV2yZAnNly/nZ53Ero2NpcfGs3v37k3zvXv30jy2XwDbAnvq1Km0Nna8G9uaG+B7DaxcuZLWxvYK\niL3eunbtSvPCwsJgNmDAAFrL9kEYOHAgli5dGp5MU4re+UUSpeYXSZSaXyRRan6RRKn5RRKl5hdJ\nlJpfJFHR9fxmNh7AQAA73L1z5rYGAKYAaAVgA4Ch7s7PwEbJfuRsTDy2pp7tX//UU0/RWjZOD8TX\n1LO157HHHjRoEM1j5xXE1pbn5eUFs9hzOnz4cJrH9gO4+eabac72vx86dCitXbRoEc3nzZtH8wcf\nfDCYxc4M+MUvfkHzs87i75ux+RVsnsGVV15Ja7N5RPcEANf8x22jAMx193YA5mb+LSJfItHmd/d5\nAP7zbW8QgImZjycCGFzJ1yUiZ1h5f+Zv7O5bMx9vA9C4kq5HRLKkwr/w85LFAcEFAmY2wswKzayQ\nzUEXkewqb/NvN7OmAJD5e0foE919nLsXuHtBzZo1y/lwIlLZytv8MwAMy3w8DMD0yrkcEcmWaPOb\n2WQA7wFob2abzew2AI8AuNLMVgPon/m3iHyJRMf53f2WQMQ3bD+N4uJiHD58OJh/8skntP7EiRPB\nLLZmvlOnTjSP7Wuwbdu2YDZt2jRa+6tf/YrmsTHj2JnrM2bMCGZPP/00rW3cmP+utmXLljR/++23\ny11fo0YNWtuzZ0+ax+ZHMLHnnO1DAAAPPfQQzWPP28aNG4NZ7DndtGlTMNuzJzrd5l80w08kUWp+\nkUSp+UUSpeYXSZSaXyRRan6RRGV16+5q1ao5m+UXO4p6+vTwXKIjR47Q2hUrVtC8fv36NG/Xrl0w\n27lzJ6294YYbaB7bRrpJkyY0nzlzZjDbsGEDrT333HNpHhsK/P73v09ztgV2ixYtaG3saPPYtuJs\nuG7r1q3BDIgvAZ81axbNY1uiL1iwIJjFZsJWq1YtmI0ePRqffPKJtu4WkTA1v0ii1PwiiVLziyRK\nzS+SKDW/SKLU/CKJii7prUx16tTBZZddFswXLlxI69kW2JMnT6a17LhmAHjzzTdpfv311wezCRMm\n0Fo2LgsATZs2pXm3bt3Kna9evZrWxpZRf/TRRzR/5BG+lQNblrtu3TpaG1vaGpsHcN555wUzNs4O\nxOc/9O3bl+axZdhsWW6PHj1oLVsuXKtWLVpbmt75RRKl5hdJlJpfJFFqfpFEqflFEqXmF0mUml8k\nUVkd569RowZdF19UVETr2fHeV199Na1dvHgxzYuLi2nOxoXZ3AUAePHFF2keM3XqVJqffXb4y3jH\nHXfQWvacAsBjjz1G89jz/vHHHwezzp0709pYHtuDgY3VX3LJJbR26dKlNGdHtgPxbcW7du0azGKv\n1YYNGwazyj6iW0T+H1LziyRKzS+SKDW/SKLU/CKJUvOLJErNL5Ko6Di/mY0HMBDADnfvnLntfgDD\nAXya+bT73P2V6IOdfTYaNGgQzGPHGr/77rvBrFevXrT2gw8+oPmxY8do/tJLLwWziy66iNb26dOH\n5nPmzKF5nTp1aM72Cxg7diyt/clPfkLz7t2703zIkCE0f+utt4JZ7CyF2LHq9erVozk7njz23129\nenWax/b1j80bmThxYjBj8zYAfrx37HVcWlne+ScAuOY0t//B3btm/kQbX0Sqlmjzu/s8AHw6k4h8\n6VTkZ/6fmtlSMxtvZnyepYhUOeVt/rEA2gDoCmArgMdDn2hmI8ys0MwKDx06VM6HE5HKVq7md/ft\n7n7S3YsB/AlAcMdBdx/n7gXuXhBb7CAi2VOu5jez0tvNfgfA8sq5HBHJlrIM9U0G0AdAQzPbDOB/\nAPQxs64AHMAGALefwWsUkTMg2vzufstpbv5zeR6sevXq9Ex2Nn4JANu3bw9msTHfV199leaxff3Z\n2vLYmvaVK1fSvEaNGjS/4YYbaD5jxoxglpeXR2tjew3E1szHxsP79+8fzGJnLcReDy+//DLN2T4L\nhYWFtDY2jv/MM8/QPPY1O3z4cDCLnbXA5o2YGa0tTTP8RBKl5hdJlJpfJFFqfpFEqflFEqXmF0lU\nVrfuLi4uBpvi269fP1q/fv36YBYbmnnggQdozoYRAaBt27bBrFWrVrQ2thVzbJgxNjOSPS/suoH4\nUuhJkybRPLaE9MSJE8HsrLP4e0+TJk1ofuutt9KcDcfFtixnW2sD8S2yY8OUN954YzA7cuQIrWXD\ns3v37qW1pemdXyRRan6RRKn5RRKl5hdJlJpfJFFqfpFEqflFEpXVcf7Dhw9j0aJFwbwiRzbv3LmT\n1rZu3ZrmsePB2RbUseWhF154Ic0nTJhA8+uuu47mGzZsCGZdunShtcuWLaP53//+d5rHti1v3Lhx\nMGPHtQPA0aNHaR6bw8DG+dkx1wCwbt06mseWkL/22ms0b9OmTTC79957aS3rgx/+8Ie0tjS984sk\nSs0vkig1v0ii1PwiiVLziyRKzS+SKDW/SKKyOs6fn5+PSy65JJjH1kA3a9YsmD366KO0NrZ+e8uW\nLTRnR4tv2rSJ1sbGo2Pj3bffzo9FGDx4cDDbunUrrY3tRfDjH/+Y5ueffz7N2THZsfkNv/vd72je\nt29fmrt7MGNHrsdqAWDo0KE0jx2z/fzzzwcz9pwB/OutrbtFJErNL5IoNb9IotT8IolS84skSs0v\nkig1v0iiouP8ZtYCwCQAjQE4gHHu/qSZNQAwBUArABsADHX3Pey+6tSpg8svvzyYz5o1i14L2/P/\njjvuoLWx+77ppptoPnv27GDWtGlTWhtbU8/mLwD8vxsoOQ8hZPny5bQ2dm3svgHgtttuo/kVV1wR\nzNauXUtrR40aRfNp06bRnI3VL1iwgNayeR1AfG5G7Eh4th9A7IhuNj9i165dtLa0srzznwBwj7t3\nAnAxgJFm1gnAKABz3b0dgLmZf4vIl0S0+d19q7svynx8AMAqAM0ADAIwMfNpEwGEpx2JSJXzhX7m\nN7NWALoB+AeAxu5+au7oNpT8WCAiXxJlbn4zqw1gGoCfufv+0pmX/HB12h+wzGyEmRWaWeHu3bsr\ndLEiUnnK1PxmloeSxv+Lu7+QuXm7mTXN5E0B7DhdrbuPc/cCdy+I/RJFRLIn2vxWskzozwBWufsT\npaIZAIZlPh4GYHrlX56InCllWdLbG8APACwzs1NnTd8H4BEAz5vZbQA2AuBrHBHfurtly5a0nm2H\nPHLkSFobG7J68803aT527NhyP/bUqVNp/rWvfY3mseE49uMUG6IE4ltYz58/n+axbabZ0FNsOfEF\nF1xA8+PHj9O8evXqwSz2WuvYsSPN9+3bR/O77rqL5s8991ww27x5M61lR7rHhhhLiza/u88HEFok\n3K/MjyQiVYpm+IkkSs0vkig1v0ii1PwiiVLziyRKzS+SKIttUVyZGjVq5GzpLFvuCwB79oRXDMeW\nvca2Uu7duzfNx4wZE8xiyztr1KhB82PHjtE8Ngdh4cKFwaxnz5609lvf+hbNY7My33jjDZqzaxs+\nfDitjW07fuTIEZoztWrVovnBgwdp3r9/f5rHnhfWd7Et7NnXZObMmdi5c2eZ9u/WO79IotT8IolS\n84skSs0vkig1v0ii1PwiiVLziyQqq+P8bdu2dXbsct26dWn9uHHjglnnzp1p7YABA2geO9p4586d\nweyPf/wjrR0yZAjNY+PVR48epTk7Ijz2nLK5E0B8vLt79+40z8vLC2YrVqygtWz/BgDo0KEDzdma\n/djR4rEtsNevX0/zb3zjGzR/++23g9m6detoLds/YvTo0di4caPG+UUkTM0vkig1v0ii1PwiiVLz\niyRKzS+SKDW/SKLKsm9/pTl27Bjdk5ztsw7wNdSx/crPPfdcmsfW+7M8Nta9f/9+msfGhGPHSbP1\n/rE187H1/LF9+WP7ILCv6d13301r582bR/OLL76Y5kVFRcGMnR8BAE2aNKE5m78AxOcwsD0gYq8X\ndoR3bE5IaXrnF0mUml8kUWp+kUSp+UUSpeYXSZSaXyRRan6RREXX85tZCwCTADQG4ADGufuTZnY/\ngOEAPs186n3u/gq7r5YtW/qoUaOCOTtnHgAOHDgQzGL7y7/++us037FjB83ZmPLQoUNpbXFxMc2n\nTZtG8+uvv57m77zzTjCrV68erY3NrZgxYwbNt2zZQvNhw4YFs7Zt29Lazz77jOazZ8+mOdvLoFGj\nRrQ2dmZA+/btaR7b42HSpEnBrHbt2rSWvZa/yHr+skzyOQHgHndfZGZ1ACw0s1O7LPzB3R8rywOJ\nSNUSbX533wpga+bjA2a2CkCzM31hInJmfaGf+c2sFYBuAP6RuemnZrbUzMabWf1AzQgzKzSzwtiW\nUCKSPWVufjOrDWAagJ+5+34AYwG0AdAVJd8ZPH66Oncf5+4F7l4Q+1lGRLKnTM1vZnkoafy/uPsL\nAODu2939pLsXA/gTgB5n7jJFpLJFm99KtrX9M4BV7v5Eqdublvq07wBYXvmXJyJnSll+298bwA8A\nLDOzxZnb7gNwi5l1Rcnw3wYAt8fu6NChQ3j//feDeeyo67Vr1wazVatW0drY1t7sKGmAH7P98ssv\n09oRI0bQPDYc9+GHH9KcbVEd+1GrdevWNF+5ciXNY8ePs2HIc845h9bGtsdmS3YB4Ctf+Uowi237\nvW/fPpq3adOG5gMHDqT51KlTg1nsiG527cePH6e1pZXlt/3zAZxu3JCO6YtI1aYZfiKJUvOLJErN\nL5IoNb9IotT8IolS84skKqtbdwP8KOzY2Ov27duDWb9+/WjtxIkTad6nTx+as2Owa9WqRWuXLFlC\n81atWtE8Pz+f5k8++WQwe/jhh2ltzZo1ab5mzRqax75mvXr1CmbvvvsurY1tjx3bbr1FixbB7Omn\nn6a1sdcTO7IdAJo3b05z9pphW7EDQEFBQTCrVq0arS1N7/wiiVLziyRKzS+SKDW/SKLU/CKJUvOL\nJErNL5Ko6NbdlfpgZp8CKL1YuSEAPmCaO1X12qrqdQG6tvKqzGtr6e7nleUTs9r8n3tws0J3D89Y\nyKGqem1V9boAXVt55era9G2/SKLU/CKJynXzj8vx4zNV9dqq6nUBurbyysm15fRnfhHJnVy/84tI\njuSk+c3sGjP7yMzWmFn42N4cMLMNZrbMzBabWWGOr2W8me0ws+WlbmtgZq+Z2erM36c9Ji1H13a/\nmRVlnrvFZjYgR9fWwszeMLOVZrbCzO7K3J7T545cV06et6x/229m1QB8DOBKAJsB/BPALe7ON4jP\nEjPbAKDA3XM+JmxmlwM4CGCSu3fO3PYogN3u/kjmf5z13f3eKnJt9wM4mOuTmzMHyjQtfbI0gMEA\n/gs5fO7IdQ1FDp63XLzz9wCwxt3XufsxAH8FMCgH11Hlufs8ALv/4+ZBAE7tTDIRJS+erAtcW5Xg\n7lvdfVHm4wMATp0sndPnjlxXTuSi+ZsBKL0tzmZUrSO/HcAcM1toZvyondxonDk2HQC2AWicy4s5\njejJzdn0HydLV5nnrjwnXlc2/cLv8y51964ArgUwMvPtbZXkJT+zVaXhmjKd3JwtpzlZ+l9y+dyV\n98TrypaL5i8CUHpzteaZ26oEdy/K/L0DwIuoeqcPbz91SGrm7x05vp5/qUonN5/uZGlUgeeuKp14\nnYvm/yeAdmbW2syqA7gZwIwcXMfnmFl+5hcxMLN8AFeh6p0+PAPAsMzHwwBMz+G1/JuqcnJz6GRp\n5Pi5q3InXrt71v8AGICS3/ivBfDfubiGwHW1AbAk82dFrq8NwGSUfBt4HCW/G7kNwLkA5gJYDWAO\ngAZV6NqeA7AMwFKUNFrTHF3bpSj5ln4pgMWZPwNy/dyR68rJ86YZfiKJ0i/8RBKl5hdJlJpfJFFq\nfpFEqflFEqXmF0mUml8kUWp+kUT9H9DYcaOQOnffAAAAAElFTkSuQmCC\n",
      "text/plain": [
       "<matplotlib.figure.Figure at 0x11f3d40f0>"
      ]
     },
     "metadata": {},
     "output_type": "display_data"
    },
    {
     "name": "stdout",
     "output_type": "stream",
     "text": [
      "Discriminator classification [-0.00070926]\n"
     ]
    },
    {
     "data": {
      "image/png": "iVBORw0KGgoAAAANSUhEUgAAAP8AAAD8CAYAAAC4nHJkAAAABHNCSVQICAgIfAhkiAAAAAlwSFlz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\nUvOLJErNL5Ko/wNHyGI4t0wOywAAAABJRU5ErkJggg==\n",
      "text/plain": [
       "<matplotlib.figure.Figure at 0x11f6c2160>"
      ]
     },
     "metadata": {},
     "output_type": "display_data"
    },
    {
     "name": "stdout",
     "output_type": "stream",
     "text": [
      "saved to models/pretrained_gan.ckpt-0\n"
     ]
    }
   ],
   "source": [
    "saver = tf.train.Saver()\n",
    "\n",
    "sess.run(tf.global_variables_initializer())\n",
    "\n",
    "#매번 반복할 때마다 생성기와 판별기에 대한 두 개의 갱신이 일어납니다. \n",
    "#생성기 갱신에서는 무작위 z 벡터를 판별기에 적용하고 그 출력을\n",
    "#판별기에 전달하여 확률을 얻습니다(이것이 전에 정의한 Dg 입니다).\n",
    "#손실 함수에서는 교차 엔트로피 손실이 최소화되고\n",
    "#생성기의 가중치와 편향만 갱신됩니다.\n",
    "#판별기 갱신에도 동일하게 해주게 됩니다. 프로그램 초기에 생성한\n",
    "#MNIST 변수로부터 이미지의 배치를 가져옵니다.\n",
    "#이것이 일종의 긍정 예시로 작용하고, 이전 세션의 이미지는 부정 예시로 작용합니다.\n",
    "\n",
    "gLoss = 0\n",
    "dLossFake, dLossReal = 1, 1\n",
    "d_real_count, d_fake_count, g_count = 0, 0, 0\n",
    "for i in range(50000):\n",
    "    real_image_batch = mnist.train.next_batch(batch_size)[0].reshape([batch_size, 28, 28, 1])\n",
    "    if dLossFake > 0.6:\n",
    "        # 생성된 이미지에 대해 판별기를 훈련합니다\n",
    "        _, dLossReal, dLossFake, gLoss = sess.run([d_trainer_fake, d_loss_real, d_loss_fake, g_loss],\n",
    "                                                    {x_placeholder: real_image_batch})\n",
    "        d_fake_count += 1\n",
    "\n",
    "    if gLoss > 0.5:\n",
    "        # 생성기를 훈련합니다\n",
    "        _, dLossReal, dLossFake, gLoss = sess.run([g_trainer, d_loss_real, d_loss_fake, g_loss],\n",
    "                                                    {x_placeholder: real_image_batch})\n",
    "        g_count += 1\n",
    "\n",
    "    if dLossReal > 0.45:\n",
    "        # 판별기가 실제 이미지를 가짜로 판별하게 되면\n",
    "        # 실제값에 대해 판별기를 훈련합니다\n",
    "        _, dLossReal, dLossFake, gLoss = sess.run([d_trainer_real, d_loss_real, d_loss_fake, g_loss],\n",
    "                                                    {x_placeholder: real_image_batch})\n",
    "        d_real_count += 1\n",
    "\n",
    "    if i % 10 == 0:\n",
    "        real_image_batch = mnist.validation.next_batch(batch_size)[0].reshape([batch_size, 28, 28, 1])\n",
    "        summary = sess.run(merged, {x_placeholder: real_image_batch, d_real_count_ph: d_real_count,\n",
    "                                    d_fake_count_ph: d_fake_count, g_count_ph: g_count})\n",
    "        writer.add_summary(summary, i)\n",
    "        d_real_count, d_fake_count, g_count = 0, 0, 0\n",
    "\n",
    "    if i % 1000 == 0:\n",
    "        # 노트에 주기적으로 샘플 이미지를 표시합니다.\n",
    "        # (T또한 10 회 반복할 때마다 텐서보드로 보내집니다.)\n",
    "        images = sess.run(generator(3, z_dimensions))\n",
    "        d_result = sess.run(discriminator(x_placeholder), {x_placeholder: images})\n",
    "        print(\"TRAINING STEP\", i, \"AT\", datetime.datetime.now())\n",
    "        for j in range(3):\n",
    "            print(\"Discriminator classification\", d_result[j])\n",
    "            im = images[j, :, :, 0]\n",
    "            plt.imshow(im.reshape([28, 28]), cmap='Greys')\n",
    "            plt.show()\n",
    "\n",
    "    if i % 5000 == 0:\n",
    "        save_path = saver.save(sess, \"models/pretrained_gan.ckpt\", global_step=i)\n",
    "        print(\"saved to %s\" % save_path)"
   ]
  },
  {
   "cell_type": "markdown",
   "metadata": {},
   "source": [
    "이제 생성기로 생성된 이미지를 살펴봅시다. (생성기 또한 이미지를 주기적으로 텐서보드에 보냅니다. 텐서보드의 \"images\" 탭을 눌러서 볼 수 있습니다.)\n",
    "\n",
    "그리고 일종의 검토를 위해 실제 MNIST 이미지를 판별기가 올바르게 MNIST 이미지라고 구분하는지 살펴봅시다."
   ]
  },
  {
   "cell_type": "code",
   "execution_count": null,
   "metadata": {},
   "outputs": [],
   "source": [
    "test_images = sess.run(generator(10, 100))\n",
    "test_eval = sess.run(discriminator(x_placeholder), {x_placeholder: test_images})\n",
    "\n",
    "real_images = mnist.validation.next_batch(10)[0].reshape([10, 28, 28, 1])\n",
    "real_eval = sess.run(discriminator(x_placeholder), {x_placeholder: real_images})\n",
    "\n",
    "# 생성된 이미지에 대한 판별기의 확률을 나타내고\n",
    "# 이미지를 표시합니다.\n",
    "for i in range(10):\n",
    "    print(test_eval[i])\n",
    "    plt.imshow(test_images[i, :, :, 0], cmap='Greys')\n",
    "    plt.show()\n",
    "\n",
    "# 실제 MNIST 이미지에도 동일한 작업을 수행합니다.\n",
    "for i in range(10):\n",
    "    print(real_eval[i])\n",
    "    plt.imshow(real_images[i, :, :, 0], cmap='Greys')\n",
    "    plt.show()"
   ]
  },
  {
   "cell_type": "markdown",
   "metadata": {},
   "source": [
    "한 가지 말하고 싶은 것은 GAN 를 훈련하는 것은 끔찍하게 어렵다는 것입니다. 적절한 하이퍼파라미터와, 네트워크 구조와, 훈련과정 없이는 생성기와 판별기 간에 과전력 현상이 일어나기 쉽습니다. 흔한 경우는 생성기가 반복적으로 판별기가 찾는 데이터 분포에 맞는 이미지를 출력하면서 생성기가 판별기 내 결함을 발견할 수는 있지만 여전히 읽을 만하지 못한 MNIST 숫자가 되는 것입니다. 생성기는 하나의 점에 묶이면서 더 이상 다양한 숫자를 출력하지 않게 되는 것입니다. 또 다른 경우에는 판별기가 너무 강력해져서 실제와 가짜 이미지를 쉽게 구분하게 됩니다. 이런 현상에 대한 수학적 직관은 GAN 은 어떤 게임의 내쉬균형을 찾는 것이 아닌, 비용 함수의 최소값을 찾기 위해 설계된 경사 하강법을 통해 훈련된다는 것입니다. 만약 내쉬균형을 찾으려 한다면, 현재 알고리즘은 수렴하지 않을 수도 있습니다. 게임이론과 안정적인 최적화 기술에 대한 더 많은 연구를 통해 GAN 를 합성곱 신경망처럼 간단히 훈련할 수 있게될 수도 있습니다."
   ]
  },
  {
   "cell_type": "code",
   "execution_count": null,
   "metadata": {
    "collapsed": true
   },
   "outputs": [],
   "source": []
  }
 ],
 "metadata": {
  "anaconda-cloud": {},
  "kernelspec": {
   "display_name": "Python 3",
   "language": "python",
   "name": "python3"
  },
  "language_info": {
   "codemirror_mode": {
    "name": "ipython",
    "version": 3
   },
   "file_extension": ".py",
   "mimetype": "text/x-python",
   "name": "python",
   "nbconvert_exporter": "python",
   "pygments_lexer": "ipython3",
   "version": "3.7.1"
  }
 },
 "nbformat": 4,
 "nbformat_minor": 2
}
